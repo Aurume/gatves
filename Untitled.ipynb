{
 "cells": [
  {
   "cell_type": "code",
   "execution_count": 3,
   "id": "571cfc1d-a484-4cb1-8069-c771323749de",
   "metadata": {
    "tags": []
   },
   "outputs": [
    {
     "data": {
      "text/html": [
       "<div>\n",
       "<style scoped>\n",
       "    .dataframe tbody tr th:only-of-type {\n",
       "        vertical-align: middle;\n",
       "    }\n",
       "\n",
       "    .dataframe tbody tr th {\n",
       "        vertical-align: top;\n",
       "    }\n",
       "\n",
       "    .dataframe thead th {\n",
       "        text-align: right;\n",
       "    }\n",
       "</style>\n",
       "<table border=\"1\" class=\"dataframe\">\n",
       "  <thead>\n",
       "    <tr style=\"text-align: right;\">\n",
       "      <th></th>\n",
       "      <th>_type</th>\n",
       "      <th>_id</th>\n",
       "      <th>_revision</th>\n",
       "      <th>gat_kodas</th>\n",
       "      <th>tipas</th>\n",
       "      <th>tipo_santrumpa</th>\n",
       "      <th>pavadinimas</th>\n",
       "      <th>gyvenamoji_vietove._id</th>\n",
       "      <th>nuo</th>\n",
       "      <th>gat_nuo</th>\n",
       "    </tr>\n",
       "  </thead>\n",
       "  <tbody>\n",
       "    <tr>\n",
       "      <th>0</th>\n",
       "      <td>datasets/gov/rc/ar/gatve/Gatve</td>\n",
       "      <td>6a2f2a24-41e4-400a-92be-d69cce8236b0</td>\n",
       "      <td>887da2a7-8865-4504-949b-e6cd3ad0a2cc</td>\n",
       "      <td>1122775</td>\n",
       "      <td>gatvė</td>\n",
       "      <td>g.</td>\n",
       "      <td>Pyvesos</td>\n",
       "      <td>43226575-6207-4aa5-bc03-b71cf1c28bc7</td>\n",
       "      <td>2011-10-11</td>\n",
       "      <td>2011-10-11</td>\n",
       "    </tr>\n",
       "    <tr>\n",
       "      <th>1</th>\n",
       "      <td>datasets/gov/rc/ar/gatve/Gatve</td>\n",
       "      <td>989b45ae-a09a-4112-b72b-79cf886a93e7</td>\n",
       "      <td>29972112-dc65-4a8a-8892-e8c388425372</td>\n",
       "      <td>1123088</td>\n",
       "      <td>gatvė</td>\n",
       "      <td>g.</td>\n",
       "      <td>Saulėtekio</td>\n",
       "      <td>229c602b-cb0a-45ec-818d-42432430d096</td>\n",
       "      <td>2012-06-01</td>\n",
       "      <td>2012-06-01</td>\n",
       "    </tr>\n",
       "    <tr>\n",
       "      <th>2</th>\n",
       "      <td>datasets/gov/rc/ar/gatve/Gatve</td>\n",
       "      <td>1a301474-a958-49e8-bf20-aa5761b35968</td>\n",
       "      <td>c85d311f-5b76-4667-8504-af396c21a23b</td>\n",
       "      <td>1123179</td>\n",
       "      <td>gatvė</td>\n",
       "      <td>g.</td>\n",
       "      <td>Tujų</td>\n",
       "      <td>c9a461d5-933f-4d02-8519-32995f46805c</td>\n",
       "      <td>2011-07-12</td>\n",
       "      <td>2011-07-12</td>\n",
       "    </tr>\n",
       "    <tr>\n",
       "      <th>3</th>\n",
       "      <td>datasets/gov/rc/ar/gatve/Gatve</td>\n",
       "      <td>c96a45f4-bb0c-4125-bcf1-5cbddf2ad339</td>\n",
       "      <td>a3c884c3-8e29-4633-a261-97f956fed649</td>\n",
       "      <td>1123312</td>\n",
       "      <td>gatvė</td>\n",
       "      <td>g.</td>\n",
       "      <td>Gluosnių</td>\n",
       "      <td>38b16c85-e6be-40cb-b5c6-ab388bd9b63b</td>\n",
       "      <td>2011-07-15</td>\n",
       "      <td>2011-07-15</td>\n",
       "    </tr>\n",
       "    <tr>\n",
       "      <th>4</th>\n",
       "      <td>datasets/gov/rc/ar/gatve/Gatve</td>\n",
       "      <td>2e225265-4fc8-4665-a2ad-2459869b1b6e</td>\n",
       "      <td>128b3695-8d8d-479e-9a17-ca07e7ea66ec</td>\n",
       "      <td>1123331</td>\n",
       "      <td>gatvė</td>\n",
       "      <td>g.</td>\n",
       "      <td>Peršėkės</td>\n",
       "      <td>db6cdc43-f069-4973-a537-c0d37c32c4c4</td>\n",
       "      <td>2011-07-12</td>\n",
       "      <td>2011-07-12</td>\n",
       "    </tr>\n",
       "    <tr>\n",
       "      <th>...</th>\n",
       "      <td>...</td>\n",
       "      <td>...</td>\n",
       "      <td>...</td>\n",
       "      <td>...</td>\n",
       "      <td>...</td>\n",
       "      <td>...</td>\n",
       "      <td>...</td>\n",
       "      <td>...</td>\n",
       "      <td>...</td>\n",
       "      <td>...</td>\n",
       "    </tr>\n",
       "    <tr>\n",
       "      <th>95</th>\n",
       "      <td>datasets/gov/rc/ar/gatve/Gatve</td>\n",
       "      <td>81271dfa-4f3d-460d-84eb-8a481c876f2a</td>\n",
       "      <td>008668bb-32f0-4939-b7d5-cbf9c9c41379</td>\n",
       "      <td>1125812</td>\n",
       "      <td>gatvė</td>\n",
       "      <td>g.</td>\n",
       "      <td>Mokyklos</td>\n",
       "      <td>ad4daabb-a631-422e-bb9c-7c252a15f3ac</td>\n",
       "      <td>2011-07-21</td>\n",
       "      <td>2011-07-21</td>\n",
       "    </tr>\n",
       "    <tr>\n",
       "      <th>96</th>\n",
       "      <td>datasets/gov/rc/ar/gatve/Gatve</td>\n",
       "      <td>568e8ad0-71fd-42df-bfbd-fdf2a3ec3774</td>\n",
       "      <td>0a788efa-2e71-4cc9-aed4-4f1adeab86f8</td>\n",
       "      <td>1125899</td>\n",
       "      <td>gatvė</td>\n",
       "      <td>g.</td>\n",
       "      <td>Ilgės</td>\n",
       "      <td>720d1ffc-a982-48ff-ad89-adc393bb747c</td>\n",
       "      <td>2011-10-11</td>\n",
       "      <td>2011-10-11</td>\n",
       "    </tr>\n",
       "    <tr>\n",
       "      <th>97</th>\n",
       "      <td>datasets/gov/rc/ar/gatve/Gatve</td>\n",
       "      <td>37b848b6-0abd-437a-a160-58bd7b877740</td>\n",
       "      <td>fb26b3e9-f86d-4b1c-b73e-89b951fc7494</td>\n",
       "      <td>1126053</td>\n",
       "      <td>gatvė</td>\n",
       "      <td>g.</td>\n",
       "      <td>Lauko</td>\n",
       "      <td>325027c7-caa9-427a-8423-670f4750b7b0</td>\n",
       "      <td>2011-10-11</td>\n",
       "      <td>2011-10-11</td>\n",
       "    </tr>\n",
       "    <tr>\n",
       "      <th>98</th>\n",
       "      <td>datasets/gov/rc/ar/gatve/Gatve</td>\n",
       "      <td>d5b77392-0fcc-457a-b503-f779dcd65df3</td>\n",
       "      <td>0498ec01-6bdf-4155-9d16-18b31d55d507</td>\n",
       "      <td>1126072</td>\n",
       "      <td>gatvė</td>\n",
       "      <td>g.</td>\n",
       "      <td>Dvaro</td>\n",
       "      <td>5659612c-bb30-4d84-86be-c560f7531dfa</td>\n",
       "      <td>2011-10-11</td>\n",
       "      <td>2011-10-11</td>\n",
       "    </tr>\n",
       "    <tr>\n",
       "      <th>99</th>\n",
       "      <td>datasets/gov/rc/ar/gatve/Gatve</td>\n",
       "      <td>cf4e685d-390d-4a73-87bf-55ab12e10105</td>\n",
       "      <td>f1975d62-cb55-495a-b143-d632e84b5b64</td>\n",
       "      <td>1126474</td>\n",
       "      <td>gatvė</td>\n",
       "      <td>g.</td>\n",
       "      <td>Pamiškės</td>\n",
       "      <td>2d237d78-c881-4315-9fdf-c23a4bb97e4f</td>\n",
       "      <td>2012-06-01</td>\n",
       "      <td>2012-06-01</td>\n",
       "    </tr>\n",
       "  </tbody>\n",
       "</table>\n",
       "<p>100 rows × 10 columns</p>\n",
       "</div>"
      ],
      "text/plain": [
       "                             _type                                   _id  \\\n",
       "0   datasets/gov/rc/ar/gatve/Gatve  6a2f2a24-41e4-400a-92be-d69cce8236b0   \n",
       "1   datasets/gov/rc/ar/gatve/Gatve  989b45ae-a09a-4112-b72b-79cf886a93e7   \n",
       "2   datasets/gov/rc/ar/gatve/Gatve  1a301474-a958-49e8-bf20-aa5761b35968   \n",
       "3   datasets/gov/rc/ar/gatve/Gatve  c96a45f4-bb0c-4125-bcf1-5cbddf2ad339   \n",
       "4   datasets/gov/rc/ar/gatve/Gatve  2e225265-4fc8-4665-a2ad-2459869b1b6e   \n",
       "..                             ...                                   ...   \n",
       "95  datasets/gov/rc/ar/gatve/Gatve  81271dfa-4f3d-460d-84eb-8a481c876f2a   \n",
       "96  datasets/gov/rc/ar/gatve/Gatve  568e8ad0-71fd-42df-bfbd-fdf2a3ec3774   \n",
       "97  datasets/gov/rc/ar/gatve/Gatve  37b848b6-0abd-437a-a160-58bd7b877740   \n",
       "98  datasets/gov/rc/ar/gatve/Gatve  d5b77392-0fcc-457a-b503-f779dcd65df3   \n",
       "99  datasets/gov/rc/ar/gatve/Gatve  cf4e685d-390d-4a73-87bf-55ab12e10105   \n",
       "\n",
       "                               _revision  gat_kodas  tipas tipo_santrumpa  \\\n",
       "0   887da2a7-8865-4504-949b-e6cd3ad0a2cc    1122775  gatvė             g.   \n",
       "1   29972112-dc65-4a8a-8892-e8c388425372    1123088  gatvė             g.   \n",
       "2   c85d311f-5b76-4667-8504-af396c21a23b    1123179  gatvė             g.   \n",
       "3   a3c884c3-8e29-4633-a261-97f956fed649    1123312  gatvė             g.   \n",
       "4   128b3695-8d8d-479e-9a17-ca07e7ea66ec    1123331  gatvė             g.   \n",
       "..                                   ...        ...    ...            ...   \n",
       "95  008668bb-32f0-4939-b7d5-cbf9c9c41379    1125812  gatvė             g.   \n",
       "96  0a788efa-2e71-4cc9-aed4-4f1adeab86f8    1125899  gatvė             g.   \n",
       "97  fb26b3e9-f86d-4b1c-b73e-89b951fc7494    1126053  gatvė             g.   \n",
       "98  0498ec01-6bdf-4155-9d16-18b31d55d507    1126072  gatvė             g.   \n",
       "99  f1975d62-cb55-495a-b143-d632e84b5b64    1126474  gatvė             g.   \n",
       "\n",
       "   pavadinimas                gyvenamoji_vietove._id         nuo     gat_nuo  \n",
       "0      Pyvesos  43226575-6207-4aa5-bc03-b71cf1c28bc7  2011-10-11  2011-10-11  \n",
       "1   Saulėtekio  229c602b-cb0a-45ec-818d-42432430d096  2012-06-01  2012-06-01  \n",
       "2         Tujų  c9a461d5-933f-4d02-8519-32995f46805c  2011-07-12  2011-07-12  \n",
       "3     Gluosnių  38b16c85-e6be-40cb-b5c6-ab388bd9b63b  2011-07-15  2011-07-15  \n",
       "4     Peršėkės  db6cdc43-f069-4973-a537-c0d37c32c4c4  2011-07-12  2011-07-12  \n",
       "..         ...                                   ...         ...         ...  \n",
       "95    Mokyklos  ad4daabb-a631-422e-bb9c-7c252a15f3ac  2011-07-21  2011-07-21  \n",
       "96       Ilgės  720d1ffc-a982-48ff-ad89-adc393bb747c  2011-10-11  2011-10-11  \n",
       "97       Lauko  325027c7-caa9-427a-8423-670f4750b7b0  2011-10-11  2011-10-11  \n",
       "98       Dvaro  5659612c-bb30-4d84-86be-c560f7531dfa  2011-10-11  2011-10-11  \n",
       "99    Pamiškės  2d237d78-c881-4315-9fdf-c23a4bb97e4f  2012-06-01  2012-06-01  \n",
       "\n",
       "[100 rows x 10 columns]"
      ]
     },
     "execution_count": 3,
     "metadata": {},
     "output_type": "execute_result"
    }
   ],
   "source": [
    "import pandas as pd\n",
    "pavadinimai = pd.read_csv('gatves.csv')\n",
    "pavadinimai.head(100)\n"
   ]
  },
  {
   "cell_type": "raw",
   "id": "8d801b64-276b-4974-87ff-6060da68c3a1",
   "metadata": {},
   "source": [
    "Išsiaiškiname kokie yra stulpelių tikslūs pavadinimai:"
   ]
  },
  {
   "cell_type": "code",
   "execution_count": 4,
   "id": "7899d45a-ba97-4bb1-9b61-3e6513c1574a",
   "metadata": {
    "tags": []
   },
   "outputs": [
    {
     "data": {
      "text/plain": [
       "['_type',\n",
       " '_id',\n",
       " '_revision',\n",
       " 'gat_kodas',\n",
       " 'tipas',\n",
       " 'tipo_santrumpa',\n",
       " 'pavadinimas',\n",
       " 'gyvenamoji_vietove._id',\n",
       " 'nuo',\n",
       " 'gat_nuo']"
      ]
     },
     "execution_count": 4,
     "metadata": {},
     "output_type": "execute_result"
    }
   ],
   "source": [
    "pavadinimai.columns.values.tolist()"
   ]
  },
  {
   "cell_type": "raw",
   "id": "4acbb2ac-3afc-4771-9080-9f5f70a28ba2",
   "metadata": {},
   "source": [
    "Šalinam nereikalingus analizei stulpelius:"
   ]
  },
  {
   "cell_type": "code",
   "execution_count": 5,
   "id": "eea886a5-d1ec-4518-a9b8-45efd9d7d79d",
   "metadata": {
    "tags": []
   },
   "outputs": [],
   "source": [
    "pavadinimai.drop(columns=\n",
    "['_type',\n",
    " '_id', \n",
    " '_revision',\n",
    " 'tipo_santrumpa',\n",
    " 'nuo',\n",
    " 'gat_nuo'], \n",
    "inplace=True)"
   ]
  },
  {
   "cell_type": "code",
   "execution_count": 10,
   "id": "6144d164-e4c5-40e2-9772-7e1472128bf7",
   "metadata": {
    "tags": []
   },
   "outputs": [
    {
     "data": {
      "text/html": [
       "<div>\n",
       "<style scoped>\n",
       "    .dataframe tbody tr th:only-of-type {\n",
       "        vertical-align: middle;\n",
       "    }\n",
       "\n",
       "    .dataframe tbody tr th {\n",
       "        vertical-align: top;\n",
       "    }\n",
       "\n",
       "    .dataframe thead th {\n",
       "        text-align: right;\n",
       "    }\n",
       "</style>\n",
       "<table border=\"1\" class=\"dataframe\">\n",
       "  <thead>\n",
       "    <tr style=\"text-align: right;\">\n",
       "      <th></th>\n",
       "      <th>gat_kodas</th>\n",
       "      <th>tipas</th>\n",
       "      <th>pavadinimas</th>\n",
       "      <th>gyvenamoji_vietove._id</th>\n",
       "    </tr>\n",
       "  </thead>\n",
       "  <tbody>\n",
       "    <tr>\n",
       "      <th>0</th>\n",
       "      <td>1122775</td>\n",
       "      <td>gatvė</td>\n",
       "      <td>Pyvesos</td>\n",
       "      <td>43226575-6207-4aa5-bc03-b71cf1c28bc7</td>\n",
       "    </tr>\n",
       "    <tr>\n",
       "      <th>1</th>\n",
       "      <td>1123088</td>\n",
       "      <td>gatvė</td>\n",
       "      <td>Saulėtekio</td>\n",
       "      <td>229c602b-cb0a-45ec-818d-42432430d096</td>\n",
       "    </tr>\n",
       "    <tr>\n",
       "      <th>2</th>\n",
       "      <td>1123179</td>\n",
       "      <td>gatvė</td>\n",
       "      <td>Tujų</td>\n",
       "      <td>c9a461d5-933f-4d02-8519-32995f46805c</td>\n",
       "    </tr>\n",
       "    <tr>\n",
       "      <th>3</th>\n",
       "      <td>1123312</td>\n",
       "      <td>gatvė</td>\n",
       "      <td>Gluosnių</td>\n",
       "      <td>38b16c85-e6be-40cb-b5c6-ab388bd9b63b</td>\n",
       "    </tr>\n",
       "    <tr>\n",
       "      <th>4</th>\n",
       "      <td>1123331</td>\n",
       "      <td>gatvė</td>\n",
       "      <td>Peršėkės</td>\n",
       "      <td>db6cdc43-f069-4973-a537-c0d37c32c4c4</td>\n",
       "    </tr>\n",
       "  </tbody>\n",
       "</table>\n",
       "</div>"
      ],
      "text/plain": [
       "   gat_kodas  tipas pavadinimas                gyvenamoji_vietove._id\n",
       "0    1122775  gatvė     Pyvesos  43226575-6207-4aa5-bc03-b71cf1c28bc7\n",
       "1    1123088  gatvė  Saulėtekio  229c602b-cb0a-45ec-818d-42432430d096\n",
       "2    1123179  gatvė        Tujų  c9a461d5-933f-4d02-8519-32995f46805c\n",
       "3    1123312  gatvė    Gluosnių  38b16c85-e6be-40cb-b5c6-ab388bd9b63b\n",
       "4    1123331  gatvė    Peršėkės  db6cdc43-f069-4973-a537-c0d37c32c4c4"
      ]
     },
     "execution_count": 10,
     "metadata": {},
     "output_type": "execute_result"
    }
   ],
   "source": [
    "gatves = pavadinimai\n",
    "gatves.to_csv('sutvarkytos_gatves.csv', index=False)"
   ]
  },
  {
   "cell_type": "raw",
   "id": "31764feb-a136-4dc8-9a2b-00c05eb9c8eb",
   "metadata": {},
   "source": [
    "Išsirūšiuojam pavadinimus pagal abecėlę:"
   ]
  },
  {
   "cell_type": "code",
   "execution_count": 11,
   "id": "43cf98ec-1894-4f72-9e29-8da28eb04ccd",
   "metadata": {
    "tags": []
   },
   "outputs": [
    {
     "data": {
      "text/html": [
       "<div>\n",
       "<style scoped>\n",
       "    .dataframe tbody tr th:only-of-type {\n",
       "        vertical-align: middle;\n",
       "    }\n",
       "\n",
       "    .dataframe tbody tr th {\n",
       "        vertical-align: top;\n",
       "    }\n",
       "\n",
       "    .dataframe thead th {\n",
       "        text-align: right;\n",
       "    }\n",
       "</style>\n",
       "<table border=\"1\" class=\"dataframe\">\n",
       "  <thead>\n",
       "    <tr style=\"text-align: right;\">\n",
       "      <th></th>\n",
       "      <th>gat_kodas</th>\n",
       "      <th>tipas</th>\n",
       "      <th>pavadinimas</th>\n",
       "      <th>gyvenamoji_vietove._id</th>\n",
       "    </tr>\n",
       "  </thead>\n",
       "  <tbody>\n",
       "    <tr>\n",
       "      <th>6848</th>\n",
       "      <td>1235287</td>\n",
       "      <td>takas</td>\n",
       "      <td>1-asis</td>\n",
       "      <td>21bbe639-b485-490c-8ab4-e58494826b8c</td>\n",
       "    </tr>\n",
       "    <tr>\n",
       "      <th>35533</th>\n",
       "      <td>1625244</td>\n",
       "      <td>gatvė</td>\n",
       "      <td>1-ojo Forto</td>\n",
       "      <td>d9d35c43-4935-49da-953b-693effa947be</td>\n",
       "    </tr>\n",
       "    <tr>\n",
       "      <th>6849</th>\n",
       "      <td>1235291</td>\n",
       "      <td>takas</td>\n",
       "      <td>2-asis</td>\n",
       "      <td>21bbe639-b485-490c-8ab4-e58494826b8c</td>\n",
       "    </tr>\n",
       "    <tr>\n",
       "      <th>16956</th>\n",
       "      <td>1362823</td>\n",
       "      <td>gatvė</td>\n",
       "      <td>3-iojo Forto</td>\n",
       "      <td>c15961fc-edb3-44e7-8f6f-52813ab39bf2</td>\n",
       "    </tr>\n",
       "    <tr>\n",
       "      <th>6533</th>\n",
       "      <td>1231349</td>\n",
       "      <td>gatvė</td>\n",
       "      <td>9-ojo Forto</td>\n",
       "      <td>58437361-d62a-4714-9b74-f07ae0b9d66b</td>\n",
       "    </tr>\n",
       "    <tr>\n",
       "      <th>...</th>\n",
       "      <td>...</td>\n",
       "      <td>...</td>\n",
       "      <td>...</td>\n",
       "      <td>...</td>\n",
       "    </tr>\n",
       "    <tr>\n",
       "      <th>16347</th>\n",
       "      <td>1355222</td>\n",
       "      <td>gatvė</td>\n",
       "      <td>Žąsų</td>\n",
       "      <td>7cfc1a44-8e95-4e7d-9420-636cbe31d41f</td>\n",
       "    </tr>\n",
       "    <tr>\n",
       "      <th>40491</th>\n",
       "      <td>1690478</td>\n",
       "      <td>gatvė</td>\n",
       "      <td>Žėručio</td>\n",
       "      <td>2646f0bc-39a9-4770-88bd-0a53b1c9b9bf</td>\n",
       "    </tr>\n",
       "    <tr>\n",
       "      <th>7266</th>\n",
       "      <td>1240536</td>\n",
       "      <td>gatvė</td>\n",
       "      <td>Žėručio</td>\n",
       "      <td>2053f964-5101-4094-9eed-b4fb60754f05</td>\n",
       "    </tr>\n",
       "    <tr>\n",
       "      <th>11843</th>\n",
       "      <td>1299233</td>\n",
       "      <td>gatvė</td>\n",
       "      <td>Žėručio</td>\n",
       "      <td>a4e4f97d-e0c5-40f1-9660-d23cfd047428</td>\n",
       "    </tr>\n",
       "    <tr>\n",
       "      <th>40812</th>\n",
       "      <td>1694636</td>\n",
       "      <td>gatvė</td>\n",
       "      <td>Žūklės</td>\n",
       "      <td>ecd017de-4285-4f24-974a-9d2eacfb5eab</td>\n",
       "    </tr>\n",
       "  </tbody>\n",
       "</table>\n",
       "<p>58958 rows × 4 columns</p>\n",
       "</div>"
      ],
      "text/plain": [
       "       gat_kodas  tipas   pavadinimas                gyvenamoji_vietove._id\n",
       "6848     1235287  takas        1-asis  21bbe639-b485-490c-8ab4-e58494826b8c\n",
       "35533    1625244  gatvė   1-ojo Forto  d9d35c43-4935-49da-953b-693effa947be\n",
       "6849     1235291  takas        2-asis  21bbe639-b485-490c-8ab4-e58494826b8c\n",
       "16956    1362823  gatvė  3-iojo Forto  c15961fc-edb3-44e7-8f6f-52813ab39bf2\n",
       "6533     1231349  gatvė   9-ojo Forto  58437361-d62a-4714-9b74-f07ae0b9d66b\n",
       "...          ...    ...           ...                                   ...\n",
       "16347    1355222  gatvė          Žąsų  7cfc1a44-8e95-4e7d-9420-636cbe31d41f\n",
       "40491    1690478  gatvė       Žėručio  2646f0bc-39a9-4770-88bd-0a53b1c9b9bf\n",
       "7266     1240536  gatvė       Žėručio  2053f964-5101-4094-9eed-b4fb60754f05\n",
       "11843    1299233  gatvė       Žėručio  a4e4f97d-e0c5-40f1-9660-d23cfd047428\n",
       "40812    1694636  gatvė        Žūklės  ecd017de-4285-4f24-974a-9d2eacfb5eab\n",
       "\n",
       "[58958 rows x 4 columns]"
      ]
     },
     "execution_count": 11,
     "metadata": {},
     "output_type": "execute_result"
    }
   ],
   "source": [
    "gatves.sort_values('pavadinimas')"
   ]
  },
  {
   "cell_type": "raw",
   "id": "3668db38-e21c-42ec-96a8-283ba9305226",
   "metadata": {},
   "source": [
    "Patikrinam ar nėra nulinių ir ne skaitinių reikšmių stulpeliuose:"
   ]
  },
  {
   "cell_type": "code",
   "execution_count": 12,
   "id": "46a5f58e-c68c-4983-b0df-95f64f6f5121",
   "metadata": {
    "tags": []
   },
   "outputs": [
    {
     "data": {
      "text/plain": [
       "gat_kodas                 0\n",
       "tipas                     0\n",
       "pavadinimas               0\n",
       "gyvenamoji_vietove._id    0\n",
       "dtype: int64"
      ]
     },
     "execution_count": 12,
     "metadata": {},
     "output_type": "execute_result"
    }
   ],
   "source": [
    "gatves.isnull().sum()"
   ]
  },
  {
   "cell_type": "code",
   "execution_count": 13,
   "id": "f0198965-a76c-4609-9e85-ce4cc21ddfa0",
   "metadata": {
    "tags": []
   },
   "outputs": [
    {
     "data": {
      "text/plain": [
       "gat_kodas                 0\n",
       "tipas                     0\n",
       "pavadinimas               0\n",
       "gyvenamoji_vietove._id    0\n",
       "dtype: int64"
      ]
     },
     "execution_count": 13,
     "metadata": {},
     "output_type": "execute_result"
    }
   ],
   "source": [
    "gatves.isna().sum()"
   ]
  },
  {
   "cell_type": "raw",
   "id": "a98d6014-8662-4bc5-b1bf-a6dc3e08003b",
   "metadata": {},
   "source": [
    "Ar nėra besidubliuojančių eilučių?"
   ]
  },
  {
   "cell_type": "code",
   "execution_count": 14,
   "id": "58561ab6-e9de-4a4b-a162-e85ab955dc4c",
   "metadata": {
    "tags": []
   },
   "outputs": [
    {
     "data": {
      "text/plain": [
       "0        False\n",
       "1        False\n",
       "2        False\n",
       "3        False\n",
       "4        False\n",
       "         ...  \n",
       "58953    False\n",
       "58954    False\n",
       "58955    False\n",
       "58956    False\n",
       "58957    False\n",
       "Length: 58958, dtype: bool"
      ]
     },
     "execution_count": 14,
     "metadata": {},
     "output_type": "execute_result"
    }
   ],
   "source": [
    "gatves.duplicated()"
   ]
  },
  {
   "cell_type": "raw",
   "id": "922acea0-9a5d-49a9-85c6-8091b7d7cd75",
   "metadata": {},
   "source": [
    "Bandom grupuoti pagal pavadinimus, ar pagal vietovę?"
   ]
  },
  {
   "cell_type": "code",
   "execution_count": 16,
   "id": "c4aec26a-7939-46f7-822a-46c190593714",
   "metadata": {
    "tags": []
   },
   "outputs": [],
   "source": [
    "vietove = gatves.groupby('pavadinimas')"
   ]
  },
  {
   "cell_type": "code",
   "execution_count": 17,
   "id": "0df848c4-8c87-4dac-993f-0f187dcc2f20",
   "metadata": {
    "tags": []
   },
   "outputs": [
    {
     "data": {
      "text/plain": [
       "<pandas.core.groupby.generic.DataFrameGroupBy object at 0x0000024B79EB3150>"
      ]
     },
     "execution_count": 17,
     "metadata": {},
     "output_type": "execute_result"
    }
   ],
   "source": [
    "vietove"
   ]
  },
  {
   "cell_type": "code",
   "execution_count": 65,
   "id": "41d6651d-b166-488c-96b3-0c598e62e321",
   "metadata": {
    "tags": []
   },
   "outputs": [],
   "source": [
    "kokiu_daugiausia_gatviu = vietove.count()"
   ]
  },
  {
   "cell_type": "raw",
   "id": "e9edb9d6-0cc4-4a2e-9c17-25bf0dfc2ca4",
   "metadata": {},
   "source": [
    "Pažiūrim pirmas 5 ir paskutines 5 reikšmes pagal abecėlę."
   ]
  },
  {
   "cell_type": "code",
   "execution_count": 66,
   "id": "89b9c68f-9e59-4812-8496-e7bd259d0155",
   "metadata": {
    "tags": []
   },
   "outputs": [
    {
     "data": {
      "text/html": [
       "<div>\n",
       "<style scoped>\n",
       "    .dataframe tbody tr th:only-of-type {\n",
       "        vertical-align: middle;\n",
       "    }\n",
       "\n",
       "    .dataframe tbody tr th {\n",
       "        vertical-align: top;\n",
       "    }\n",
       "\n",
       "    .dataframe thead th {\n",
       "        text-align: right;\n",
       "    }\n",
       "</style>\n",
       "<table border=\"1\" class=\"dataframe\">\n",
       "  <thead>\n",
       "    <tr style=\"text-align: right;\">\n",
       "      <th></th>\n",
       "      <th>gat_kodas</th>\n",
       "      <th>tipas</th>\n",
       "      <th>gyvenamoji_vietove._id</th>\n",
       "    </tr>\n",
       "    <tr>\n",
       "      <th>pavadinimas</th>\n",
       "      <th></th>\n",
       "      <th></th>\n",
       "      <th></th>\n",
       "    </tr>\n",
       "  </thead>\n",
       "  <tbody>\n",
       "    <tr>\n",
       "      <th>1-asis</th>\n",
       "      <td>1</td>\n",
       "      <td>1</td>\n",
       "      <td>1</td>\n",
       "    </tr>\n",
       "    <tr>\n",
       "      <th>1-ojo Forto</th>\n",
       "      <td>1</td>\n",
       "      <td>1</td>\n",
       "      <td>1</td>\n",
       "    </tr>\n",
       "    <tr>\n",
       "      <th>2-asis</th>\n",
       "      <td>1</td>\n",
       "      <td>1</td>\n",
       "      <td>1</td>\n",
       "    </tr>\n",
       "    <tr>\n",
       "      <th>3-iojo Forto</th>\n",
       "      <td>1</td>\n",
       "      <td>1</td>\n",
       "      <td>1</td>\n",
       "    </tr>\n",
       "    <tr>\n",
       "      <th>9-ojo Forto</th>\n",
       "      <td>1</td>\n",
       "      <td>1</td>\n",
       "      <td>1</td>\n",
       "    </tr>\n",
       "    <tr>\n",
       "      <th>...</th>\n",
       "      <td>...</td>\n",
       "      <td>...</td>\n",
       "      <td>...</td>\n",
       "    </tr>\n",
       "    <tr>\n",
       "      <th>Žynių</th>\n",
       "      <td>4</td>\n",
       "      <td>4</td>\n",
       "      <td>4</td>\n",
       "    </tr>\n",
       "    <tr>\n",
       "      <th>Žąsūgalos</th>\n",
       "      <td>1</td>\n",
       "      <td>1</td>\n",
       "      <td>1</td>\n",
       "    </tr>\n",
       "    <tr>\n",
       "      <th>Žąsų</th>\n",
       "      <td>2</td>\n",
       "      <td>2</td>\n",
       "      <td>2</td>\n",
       "    </tr>\n",
       "    <tr>\n",
       "      <th>Žėručio</th>\n",
       "      <td>3</td>\n",
       "      <td>3</td>\n",
       "      <td>3</td>\n",
       "    </tr>\n",
       "    <tr>\n",
       "      <th>Žūklės</th>\n",
       "      <td>1</td>\n",
       "      <td>1</td>\n",
       "      <td>1</td>\n",
       "    </tr>\n",
       "  </tbody>\n",
       "</table>\n",
       "<p>14664 rows × 3 columns</p>\n",
       "</div>"
      ],
      "text/plain": [
       "              gat_kodas  tipas  gyvenamoji_vietove._id\n",
       "pavadinimas                                           \n",
       "1-asis                1      1                       1\n",
       "1-ojo Forto           1      1                       1\n",
       "2-asis                1      1                       1\n",
       "3-iojo Forto          1      1                       1\n",
       "9-ojo Forto           1      1                       1\n",
       "...                 ...    ...                     ...\n",
       "Žynių                 4      4                       4\n",
       "Žąsūgalos             1      1                       1\n",
       "Žąsų                  2      2                       2\n",
       "Žėručio               3      3                       3\n",
       "Žūklės                1      1                       1\n",
       "\n",
       "[14664 rows x 3 columns]"
      ]
     },
     "execution_count": 66,
     "metadata": {},
     "output_type": "execute_result"
    }
   ],
   "source": [
    "kokiu_daugiausia_gatviu.head(14664)"
   ]
  },
  {
   "cell_type": "raw",
   "id": "da56dbd5-a3e8-4966-9a69-5d2055b9cb86",
   "metadata": {},
   "source": [
    "Noriu surasti ir surūšiuoti gatvių pavadinimus, kurie kartojasi bent 2 kartus. Surūšiuoti mažėjimo tvarka, kad sužinoti kokia gatvė populiariausia Lietuvoje."
   ]
  },
  {
   "cell_type": "code",
   "execution_count": 87,
   "id": "0ac62def-58cf-4565-afca-a5d53f536865",
   "metadata": {
    "tags": []
   },
   "outputs": [
    {
     "data": {
      "text/plain": [
       "Liepų          887\n",
       "Miško          709\n",
       "Beržų          600\n",
       "Sodų           537\n",
       "Pievų          488\n",
       "Mokyklos       465\n",
       "Alyvų          417\n",
       "Parko          400\n",
       "Pušyno         380\n",
       "Ežero          377\n",
       "Dvaro          370\n",
       "Lauko          362\n",
       "Ąžuolų         358\n",
       "Gėlių          352\n",
       "Kaštonų        344\n",
       "Klevų          325\n",
       "Žalioji        306\n",
       "Kalno          303\n",
       "Aušros         287\n",
       "Saulės         256\n",
       "Tvenkinio      256\n",
       "Naujoji        248\n",
       "Pušų           244\n",
       "Šilo           243\n",
       "Draugystės     243\n",
       "Vilniaus       242\n",
       "Vilties        238\n",
       "Vyšnių         234\n",
       "Rožių          226\n",
       "Taikos         224\n",
       "Lakštingalų    223\n",
       "Laukų          219\n",
       "Saulėtekio     216\n",
       "Paupio         214\n",
       "Vytauto        205\n",
       "Ateities       203\n",
       "Piliakalnio    197\n",
       "Kranto         195\n",
       "Tulpių         190\n",
       "Tujų           189\n",
       "Šermukšnių     188\n",
       "Vingio         185\n",
       "Žvejų          185\n",
       "Jaunimo        185\n",
       "Pamiškės       183\n",
       "Malūno         178\n",
       "Slėnio         173\n",
       "Plento         166\n",
       "Bažnyčios      165\n",
       "Eglių          153\n",
       "Name: pavadinimas, dtype: int64"
      ]
     },
     "execution_count": 87,
     "metadata": {},
     "output_type": "execute_result"
    }
   ],
   "source": [
    "gatves['pavadinimas'].value_counts(sort=True).head(50)"
   ]
  },
  {
   "cell_type": "code",
   "execution_count": 76,
   "id": "c7503b50-59e2-4c45-a336-45d9e331d8aa",
   "metadata": {
    "tags": []
   },
   "outputs": [],
   "source": [
    "pop_gatves = kokiu_daugiausia_gatviu[kokiu_daugiausia_gatviu['gat_kodas']>1.9]['gyvenamoji_vietove._id'].value_counts(sort=True)"
   ]
  },
  {
   "cell_type": "code",
   "execution_count": null,
   "id": "44061276-9948-462f-9d8d-ba9ee1130d68",
   "metadata": {
    "tags": []
   },
   "outputs": [],
   "source": [
    "\n"
   ]
  },
  {
   "cell_type": "code",
   "execution_count": null,
   "id": "552e6908-c0be-4326-87f1-58f66864d93c",
   "metadata": {},
   "outputs": [],
   "source": []
  }
 ],
 "metadata": {
  "kernelspec": {
   "display_name": "Python 3 (ipykernel)",
   "language": "python",
   "name": "python3"
  },
  "language_info": {
   "codemirror_mode": {
    "name": "ipython",
    "version": 3
   },
   "file_extension": ".py",
   "mimetype": "text/x-python",
   "name": "python",
   "nbconvert_exporter": "python",
   "pygments_lexer": "ipython3",
   "version": "3.11.4"
  }
 },
 "nbformat": 4,
 "nbformat_minor": 5
}
